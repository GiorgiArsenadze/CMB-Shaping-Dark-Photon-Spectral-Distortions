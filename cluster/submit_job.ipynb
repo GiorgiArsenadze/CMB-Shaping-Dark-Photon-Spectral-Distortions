{
 "cells": [
  {
   "cell_type": "code",
   "execution_count": 3,
   "metadata": {},
   "outputs": [
    {
     "data": {
      "text/plain": [
       "0"
      ]
     },
     "execution_count": 3,
     "metadata": {},
     "output_type": "execute_result"
    }
   ],
   "source": [
    "\n",
    "import sys\n",
    "import os\n",
    "import random\n",
    "import numpy as np\n",
    "\n",
    "#make sure to input correct path\n",
    "\n",
    "batch = '''#!/bin/bash\n",
    "#SBATCH -N 1   # node count\n",
    "#SBATCH --ntasks-per-node=1\n",
    "#SBATCH -t 2-4:00:00\n",
    "#SBATCH --mem=8GB\n",
    "##SBATCH --mail-type=begin\n",
    "##SBATCH --mail-type=end\n",
    "##SBATCH --mail-user=ga1348@nyu.edu\n",
    "\n",
    "\n",
    "cd ..../cluster\n",
    "\n",
    "'''\n",
    "\n",
    "# iz_compute_ary = np.arange(500)\n",
    "\n",
    "# for iz_compute in iz_compute_ary:\n",
    "#     batchn = batch + \"\\n\"\n",
    "#     batchn += \"python gen_pk.py --iz_compute \" + str(iz_compute)\n",
    "#     fname = \"batch/z_compute_\" + str(iz_compute) + \".batch\"\n",
    "#     f = open(fname, \"w\")\n",
    "#     f.write(batchn)\n",
    "#     f.close()\n",
    "#     os.system(\"chmod +x \" + fname)\n",
    "#     os.system(\"sbatch \" + fname)\n",
    "\n",
    "# iz_compute_ary = np.arange(500)\n",
    "\n",
    "\n",
    "batchn = batch + \"\\n\"\n",
    "batchn += \"python Testing_Code_cluster.py\" #+ str(iz_compute)\n",
    "fname = \"batch/testing_main_result\"  + \".batch\"\n",
    "f = open(fname, \"w\")\n",
    "f.write(batchn)\n",
    "f.close()\n",
    "os.system(\"chmod +x \" + fname)\n",
    "os.system(\"sbatch \" + fname)\n"
   ]
  },
  {
   "cell_type": "code",
   "execution_count": null,
   "metadata": {},
   "outputs": [],
   "source": []
  }
 ],
 "metadata": {
  "kernelspec": {
   "display_name": "Python 3",
   "language": "python",
   "name": "python3"
  },
  "language_info": {
   "codemirror_mode": {
    "name": "ipython",
    "version": 3
   },
   "file_extension": ".py",
   "mimetype": "text/x-python",
   "name": "python",
   "nbconvert_exporter": "python",
   "pygments_lexer": "ipython3",
   "version": "3.7.4"
  }
 },
 "nbformat": 4,
 "nbformat_minor": 4
}
