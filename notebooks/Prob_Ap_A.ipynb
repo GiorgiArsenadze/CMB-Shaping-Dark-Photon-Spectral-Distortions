{
 "cells": [
  {
   "cell_type": "code",
   "execution_count": 6,
   "metadata": {},
   "outputs": [],
   "source": [
    "import sys\n",
    "sys.path.insert(1, '../')\n",
    "\n",
    "from pckgs.import_pckg import *\n",
    "from pckgs.units import *\n",
    "from FIRAS import *\n",
    "#importing generic constants and functions\n",
    "from const_func_general import *\n",
    "#importing distortion specific constants and functions\n",
    "from cons_func_distortion import *\n",
    "#importing functions actually calculatting distortion\n",
    "from calc_distortion import *\n",
    "#importing functions for maximum liklihood analysis \n",
    "# from max_likelihood_analysis import *\n"
   ]
  },
  {
   "cell_type": "markdown",
   "metadata": {},
   "source": [
    "$P_{\\gamma \\rightarrow A'}$\n",
    "\n",
    "Perturbative: \n",
    "\\begin{equation}\n",
    "P_{\\gamma \\rightarrow A'}(m_{A'},x) = \\sum_\\text{res} \\frac{\\pi \\epsilon^2 m_{A'}^4}{ \\omega(z_\\text{res}) \\cdot (1+z_\\text{res}) H_\\text{res} } \\frac{1}{\\left| d m_\\gamma^2/dz \\right|_\\text{res}}.\n",
    "\\end{equation}\n",
    "\n",
    "Non-perturbative: \n",
    "\\begin{equation}\n",
    "P_{\\gamma \\rightarrow A'}(m_{A'},x) = 1 - \\exp\\left(- \\sum_\\text{res} \\frac{\\pi \\cdot \\sin^2\\epsilon \\cdot m_{A'}^4}{ \\omega(z_\\text{res}) \\cdot (1+z_\\text{res}) H_\\text{res} } \\frac{1}{\\left| d m_\\gamma^2/dz \\right|_\\text{res}} \\right)\n",
    "\\end{equation}\n",
    " Calc and interp: $z_\\text{res}(m_{A'},x)$ and $P_{\\gamma \\rightarrow A'}(m_{A'},x)$                                                                                                              \n",
    "                                                                                                              "
   ]
  },
  {
   "cell_type": "code",
   "execution_count": 7,
   "metadata": {},
   "outputs": [
    {
     "name": "stdout",
     "output_type": "stream",
     "text": [
      "N_P_x     =  500\n",
      "N_P_mAp   =  300\n",
      "\n",
      "x_P_min   =  0.0052789483668742995\n",
      "x_P_max   =  15.836845100622897\n",
      "\n",
      "mAp_P_min =  1e-17 eV\n",
      "mAp_P_max =  0.001 eV\n",
      "\n"
     ]
    }
   ],
   "source": [
    "# ----------------------------------------------------------------------\n",
    "# Parameters for scanning in (mAp,x) plane\n",
    "# Here we calculate P(A->Ap) for (mAp,x) plane. Result will be used later\n",
    "# To interpolate probability for much faster calculations. \n",
    "# We have checked and error between interpolated and directly calcualted probability is negiligible.\n",
    "# ----------------------------------------------------------------------\n",
    "# Output the P(A->Ap) table on x-mAp plane\n",
    "N_P_x   = 500\n",
    "N_P_mAp = 300\n",
    "\n",
    "nu_P_min = 10**(-2)  # in cm^-1\n",
    "nu_P_max = 30        # in cm^-1    # Note: The highest nu_FIRAS is 21.33 cm^-1\n",
    "\n",
    "x_P_min = 2 * np.pi * nu_P_min * cmInv_to_eV/TCMB_0   # in eV\n",
    "x_P_max = 2 * np.pi * nu_P_max * cmInv_to_eV/TCMB_0   # in eV\n",
    "\n",
    "mAp_P_min = 10**(-17)                               # in eV     # Note: The lower mAp of FIRAS bound is ~10^(-15) eV\n",
    "mAp_P_max = 10**(-3)                                # in eV     # Note: mAp~10^-4eV, z_res~10^6 (Double Compton Scattering). \n",
    "\n",
    "\n",
    "print('N_P_x     = ', N_P_x )\n",
    "print('N_P_mAp   = ', N_P_mAp )\n",
    "print('')\n",
    "print('x_P_min   = ', x_P_min )\n",
    "print('x_P_max   = ', x_P_max )\n",
    "print('')\n",
    "print('mAp_P_min = ', mAp_P_min, 'eV')\n",
    "print('mAp_P_max = ', mAp_P_max, 'eV')\n",
    "print('')\n",
    "\n",
    "# ----------------------------------------------------------------------\n",
    "# Scan in (x,mAp) plane\n",
    "# ----------------------------------------------------------------------\n",
    "\n",
    "x_P_scan_ary   = np.linspace( x_P_min, x_P_max, N_P_x )\n",
    "mAp_P_scan_ary = np.logspace( np.log10(mAp_P_min), np.log10(mAp_P_max), N_P_mAp )\n",
    "\n",
    "P_over_eps2_scan_2Dary = np.zeros( (len(x_P_scan_ary),len(mAp_P_scan_ary)) )\n",
    "\n",
    "zres_scan_2Dary        = np.zeros( (len(x_P_scan_ary),len(mAp_P_scan_ary)) )"
   ]
  },
  {
   "cell_type": "code",
   "execution_count": 8,
   "metadata": {},
   "outputs": [
    {
     "data": {
      "application/vnd.jupyter.widget-view+json": {
       "model_id": "251df88c85444881bd15bc5d630ab732",
       "version_major": 2,
       "version_minor": 0
      },
      "text/plain": [
       "HBox(children=(IntProgress(value=0, max=300), HTML(value='')))"
      ]
     },
     "metadata": {},
     "output_type": "display_data"
    },
    {
     "name": "stdout",
     "output_type": "stream",
     "text": [
      "\n"
     ]
    }
   ],
   "source": [
    "\n",
    "\n",
    "for j in tqdm_notebook(range(0,len(mAp_P_scan_ary))):\n",
    "\n",
    "    \n",
    "    for i in range(0,len(x_P_scan_ary)):\n",
    "        \n",
    "        x_i   = x_P_scan_ary[i]\n",
    "        mAp_j = mAp_P_scan_ary[j]   # in eV\n",
    "        \n",
    "        get_z_crossing_ij = get_z_crossings(mAp_j,TCMB_0*x_i)\n",
    "        \n",
    "        # Check whether A and Ap crosses\n",
    "        # If no crossing, choose zres=0\n",
    "        if (len( get_z_crossing_ij ) > 0):\n",
    "            zres_scan_2Dary[i][j] = get_z_crossing_ij[0]   # Only pick the smallest z_cross\n",
    "        else:\n",
    "            zres_scan_2Dary[i][j] = 0  # When there is no crossing\n",
    "        \n",
    "        # P_over_eps2_scan_2Dary[i][j] = P_over_eps2(mAp_j, x_i)\n",
    "        P_over_eps2_scan_2Dary[i][j] = P_pre_over_eps2(mAp_j, x_i, get_z_crossing_ij)"
   ]
  },
  {
   "cell_type": "code",
   "execution_count": 9,
   "metadata": {},
   "outputs": [],
   "source": [
    "# Exporting Probability and mAp and x_p values\n",
    "np.savez(\"../data/Probability.npz\",\n",
    "         x_P_scan_ary=x_P_scan_ary,\n",
    "         mAp_P_scan_ary=mAp_P_scan_ary,\n",
    "         P_over_eps2_scan_2Dary=P_over_eps2_scan_2Dary,\n",
    "         zres_scan_2Dary=zres_scan_2Dary\n",
    "         )\n"
   ]
  }
 ],
 "metadata": {
  "kernelspec": {
   "display_name": "Python 3",
   "language": "python",
   "name": "python3"
  },
  "language_info": {
   "codemirror_mode": {
    "name": "ipython",
    "version": 3
   },
   "file_extension": ".py",
   "mimetype": "text/x-python",
   "name": "python",
   "nbconvert_exporter": "python",
   "pygments_lexer": "ipython3",
   "version": "3.7.4"
  }
 },
 "nbformat": 4,
 "nbformat_minor": 2
}
