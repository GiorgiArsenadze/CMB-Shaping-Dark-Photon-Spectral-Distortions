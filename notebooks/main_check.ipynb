{
 "cells": [
  {
   "cell_type": "code",
   "execution_count": 1,
   "metadata": {},
   "outputs": [],
   "source": [
    "import sys\n",
    "sys.path.insert(1, '../')\n",
    "\n",
    "from pckgs.import_pckg import *\n",
    "from pckgs.units import *\n",
    "# importing FIRAS data\n",
    "from FIRAS import *\n",
    "\n",
    "# importing generic constants and functions\n",
    "from const_func_general import *\n",
    "# importing distortion specific constants and functions\n",
    "from cons_func_distortion import *\n",
    "\n",
    "\n",
    "from IPython.display import set_matplotlib_formats\n",
    "set_matplotlib_formats('retina')\n",
    "\n",
    "from pckgs.plot_params import params\n",
    "import matplotlib\n",
    "matplotlib.rcParams.update(params)\n",
    "#plt.rcParams['font.family'] = 'DeJavu Serif'\n",
    "cols_default = plt.rcParams['axes.prop_cycle'].by_key()['color']"
   ]
  },
  {
   "cell_type": "markdown",
   "metadata": {},
   "source": [
    "### Normalization Condition\n",
    "\n",
    "$$ \\frac{4 \\pi}{c} \\int G_\\mathrm{in} (\\nu, \\nu', z') d\\nu = \\frac{h \\nu'}{k T_\\gamma(z')} \\alpha_\\rho \\rho_\\gamma(0) = \\frac{h \\nu'}{1+z'} N_\\gamma(0) $$"
   ]
  },
  {
   "cell_type": "code",
   "execution_count": 2,
   "metadata": {},
   "outputs": [
    {
     "data": {
      "text/plain": [
       "<matplotlib.legend.Legend at 0x7f841d5ed4d0>"
      ]
     },
     "execution_count": 2,
     "metadata": {},
     "output_type": "execute_result"
    },
    {
     "data": {
      "image/png": "[encoded data removed]",
      "text/plain": [
       "<Figure size 432x288 with 1 Axes>"
      ]
     },
     "metadata": {
      "needs_background": "light"
     },
     "output_type": "display_data"
    }
   ],
   "source": [
    "# this is a test to check normalization of G_mu\n",
    "# below we will plot ratio of the left and the right hand sides to confirm their equality \n",
    "x_ary_int    = np.logspace(-5,2.2, 1000)\n",
    "\n",
    "x_prime_test = np.logspace(-4,3,1000)\n",
    "\n",
    "z_prime_test_1 = 1e3\n",
    "z_prime_test_2 = 3*1e5\n",
    "z_prime_test_3 = 5*1e9\n",
    "\n",
    "LHS_test_1 = (4*np.pi/c) * np.trapz( np.transpose( greens_mu_MT(x_ary_int,x_prime_test, z_prime_test_1, TCMB_0, units='eV_per_cmSq') ), x_ary_int) * (TCMB_0 / h)\n",
    "LHS_test_2 = (4*np.pi/c) * np.trapz( np.transpose( greens_mu_MT(x_ary_int,x_prime_test, z_prime_test_2, TCMB_0, units='eV_per_cmSq') ), x_ary_int) * (TCMB_0 / h)\n",
    "LHS_test_3 = (4*np.pi/c) * np.trapz( np.transpose( greens_mu_MT(x_ary_int,x_prime_test, z_prime_test_3, TCMB_0, units='eV_per_cmSq') ), x_ary_int) * (TCMB_0 / h)\n",
    "\n",
    "RHS_test = x_prime_test * alpha_rho * rho_gamma(TCMB_0) / cmInv_to_eV**3\n",
    "\n",
    "plt.figure()\n",
    "\n",
    "plt.xscale('log')\n",
    "\n",
    "\n",
    "plt.plot(x_prime_test,  LHS_test_1/RHS_test, label = r'$z=10^3$', color = 'blue')\n",
    "plt.plot(x_prime_test,  LHS_test_2/RHS_test, label = r'$z=3 \\times 10^5$', color = 'red')\n",
    "plt.plot(x_prime_test,  LHS_test_3/RHS_test, label = r'$z=5 \\times 10^9$', color = 'green')\n",
    "\n",
    "plt.plot(x_prime_test, [1 for x_p in x_prime_test], label = r'LHS=RHS', color = 'black',linestyle='dotted')\n",
    "\n",
    "plt.title(r'$G_\\mu(x,x^\\prime,z^\\prime)$ Normalization')\n",
    "\n",
    "plt.xlabel(r'$x^\\prime$')\n",
    "plt.ylabel(r'$LHS/RHS$')\n",
    "\n",
    "plt.ylim(-2, 2)\n",
    "\n",
    "plt.legend()"
   ]
  },
  {
   "cell_type": "code",
   "execution_count": 18,
   "metadata": {},
   "outputs": [
    {
     "data": {
      "text/plain": [
       "<matplotlib.legend.Legend at 0x7f8405069ad0>"
      ]
     },
     "execution_count": 18,
     "metadata": {},
     "output_type": "execute_result"
    },
    {
     "data": {
      "image/png": "[encoded data removed]",
      "text/plain": [
       "<Figure size 432x288 with 1 Axes>"
      ]
     },
     "metadata": {
      "needs_background": "light"
     },
     "output_type": "display_data"
    }
   ],
   "source": [
    "# this is a test to check normalization of G_y\n",
    "# below we will plot ratio of the left and the right hand sides to confirm their equality \n",
    "x_ary_int    = np.logspace(-5,2.2, 1000)\n",
    "\n",
    "x_prime_test = np.logspace(-4,2,1000)\n",
    "\n",
    "z_prime_test_1 = 2e3\n",
    "z_prime_test_2 = 4*1e3\n",
    "z_prime_test_3 = 7*1e3\n",
    "\n",
    "LHS_test_1 = (4*np.pi/c) * np.trapz( np.transpose( greens_y(x_ary_int,x_prime_test, z_prime_test_1, TCMB_0, units='eV_per_cmSq') ), x_ary_int) * (TCMB_0 / h)\n",
    "LHS_test_2 = (4*np.pi/c) * np.trapz( np.transpose( greens_y(x_ary_int,x_prime_test, z_prime_test_2, TCMB_0, units='eV_per_cmSq') ), x_ary_int) * (TCMB_0 / h)\n",
    "LHS_test_3 = (4*np.pi/c) * np.trapz( np.transpose( greens_y(x_ary_int,x_prime_test, z_prime_test_3, TCMB_0, units='eV_per_cmSq') ), x_ary_int) * (TCMB_0 / h)\n",
    "\n",
    "RHS_test = x_prime_test * alpha_rho * rho_gamma(TCMB_0) / cmInv_to_eV**3\n",
    "\n",
    "plt.figure()\n",
    "\n",
    "plt.xscale('log')\n",
    "\n",
    "\n",
    "plt.plot(x_prime_test,  LHS_test_1/RHS_test, label = r'$z=2 \\times 10^3$', color = 'blue')\n",
    "plt.plot(x_prime_test,  LHS_test_2/RHS_test, label = r'$z=4 \\times 10^3$', color = 'red')\n",
    "plt.plot(x_prime_test,  LHS_test_3/RHS_test, label = r'$z=7 \\times 10^3$', color = 'green')\n",
    "\n",
    "plt.plot(x_prime_test, [1 for x_p in x_prime_test], label = r'LHS=RHS', color = 'black',linestyle='dotted')\n",
    "\n",
    "plt.title(r'$G_y(x,x^\\prime,z^\\prime)$ Normalization')\n",
    "\n",
    "plt.xlabel(r'$x^\\prime$')\n",
    "plt.ylabel(r'$LHS/RHS$')\n",
    "\n",
    "plt.ylim(-2, 2)\n",
    "\n",
    "plt.legend()"
   ]
  },
  {
   "cell_type": "code",
   "execution_count": null,
   "metadata": {},
   "outputs": [],
   "source": []
  },
  {
   "cell_type": "code",
   "execution_count": null,
   "metadata": {},
   "outputs": [],
   "source": []
  },
  {
   "cell_type": "code",
   "execution_count": null,
   "metadata": {},
   "outputs": [],
   "source": []
  },
  {
   "cell_type": "code",
   "execution_count": 2,
   "metadata": {},
   "outputs": [],
   "source": []
  },
  {
   "cell_type": "code",
   "execution_count": null,
   "metadata": {},
   "outputs": [],
   "source": []
  },
  {
   "cell_type": "code",
   "execution_count": null,
   "metadata": {},
   "outputs": [],
   "source": []
  }
 ],
 "metadata": {
  "kernelspec": {
   "display_name": "Python 3",
   "language": "python",
   "name": "python3"
  },
  "language_info": {
   "codemirror_mode": {
    "name": "ipython",
    "version": 3
   },
   "file_extension": ".py",
   "mimetype": "text/x-python",
   "name": "python",
   "nbconvert_exporter": "python",
   "pygments_lexer": "ipython3",
   "version": "3.7.4"
  }
 },
 "nbformat": 4,
 "nbformat_minor": 2
}
