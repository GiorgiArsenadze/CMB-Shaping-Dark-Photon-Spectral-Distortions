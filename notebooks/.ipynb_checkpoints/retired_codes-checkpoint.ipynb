{
 "cells": [
  {
   "cell_type": "code",
   "execution_count": 1,
   "metadata": {},
   "outputs": [],
   "source": [
    "import sys\n",
    "sys.path.insert(1, '../')\n",
    "\n",
    "from pckgs.import_pckg import *\n",
    "from pckgs.units import *\n",
    "# importing FIRAS data\n",
    "from FIRAS import *\n",
    "\n",
    "# importing generic constants and functions\n",
    "from const_func_general import *\n",
    "# importing distortion specific constants and functions\n",
    "from cons_func_distortion import *\n",
    "\n",
    "\n",
    "from IPython.display import set_matplotlib_formats\n",
    "set_matplotlib_formats('retina')\n",
    "\n",
    "from pckgs.plot_params import params\n",
    "import matplotlib\n",
    "matplotlib.rcParams.update(params)\n",
    "#plt.rcParams['font.family'] = 'DeJavu Serif'\n",
    "cols_default = plt.rcParams['axes.prop_cycle'].by_key()['color']"
   ]
  },
  {
   "cell_type": "code",
   "execution_count": 2,
   "metadata": {},
   "outputs": [
    {
     "data": {
      "text/plain": [
       "1.0"
      ]
     },
     "execution_count": 2,
     "metadata": {},
     "output_type": "execute_result"
    }
   ],
   "source": [
    "check_1\n",
    "\n"
   ]
  },
  {
   "cell_type": "code",
   "execution_count": 3,
   "metadata": {},
   "outputs": [
    {
     "data": {
      "text/plain": [
       "1.0"
      ]
     },
     "execution_count": 3,
     "metadata": {},
     "output_type": "execute_result"
    }
   ],
   "source": [
    "check_2"
   ]
  },
  {
   "cell_type": "code",
   "execution_count": 4,
   "metadata": {},
   "outputs": [
    {
     "data": {
      "text/plain": [
       "1.0"
      ]
     },
     "execution_count": 4,
     "metadata": {},
     "output_type": "execute_result"
    }
   ],
   "source": [
    "check_3"
   ]
  },
  {
   "cell_type": "code",
   "execution_count": 5,
   "metadata": {},
   "outputs": [
    {
     "data": {
      "text/plain": [
       "1.0000000000000004"
      ]
     },
     "execution_count": 5,
     "metadata": {},
     "output_type": "execute_result"
    }
   ],
   "source": [
    "check_4"
   ]
  },
  {
   "cell_type": "code",
   "execution_count": 7,
   "metadata": {},
   "outputs": [
    {
     "data": {
      "text/plain": [
       "3.141592653589793"
      ]
     },
     "execution_count": 7,
     "metadata": {},
     "output_type": "execute_result"
    }
   ],
   "source": [
    "np.pi"
   ]
  },
  {
   "cell_type": "code",
   "execution_count": null,
   "metadata": {},
   "outputs": [],
   "source": [
    "import pandas as pd\n",
    "\n",
    "# Create a sample dataframe\n",
    "df_darkSRF = pd.DataFrame(DarkSRF_2Dary_with_LRext)\n",
    "\n",
    "# Save the dataframe to a CSV file\n",
    "df_darkSRF.to_csv('../data/DarkSRF23_.csv', index=False)\n",
    "\n",
    "\n",
    "# Create a sample dataframe\n",
    "df_darkSRF_prof = pd.DataFrame(DarkSRF_Proj_2Dary_with_LRext)\n",
    "\n",
    "# Save the dataframe to a CSV file\n",
    "df_darkSRF_prof.to_csv('../data/DarkSRF23_Pathfinder_Proj_.csv', index=False)\n",
    "\n",
    "# Create a sample dataframe\n",
    "df_XenonSolar_ = pd.DataFrame(XenonSolar_2Dary_with_Lext)\n",
    "\n",
    "# Save the dataframe to a CSV file\n",
    "df_XenonSolar_.to_csv('../data/XenonSolar_.csv', index=False)\n",
    "\n",
    "# Create a sample dataframe\n",
    "df_SolarLuminosity_ = pd.DataFrame(SolarLuminosity_2Dary_with_Lext)\n",
    "\n",
    "# Save the dataframe to a CSV file\n",
    "df_SolarLuminosity_.to_csv('../data/SolarLuminosity_.csv', index=False)\n",
    "\n",
    "# Create a sample dataframe\n",
    "df_CROWS_ = pd.DataFrame(CROWS_2Dary_with_Rext)\n",
    "\n",
    "# Save the dataframe to a CSV file\n",
    "df_CROWS_.to_csv('../data/CROWS_.csv', index=False)\n",
    "\n",
    "# Create a sample dataframe\n",
    "df_Caputo_20_PIXIE_ = pd.DataFrame(Caputo_20_PIXIE_inho_2Dary_with_Lext)\n",
    "\n",
    "# Save the dataframe to a CSV file\n",
    "df_Caputo_20_PIXIE_.to_csv('../data/Caputo_20_PIXIE_inho.csv', index=False)\n",
    "\n"
   ]
  },
  {
   "cell_type": "code",
   "execution_count": null,
   "metadata": {},
   "outputs": [],
   "source": [
    "\n",
    "\n",
    "\n",
    "# Dark SRF:exclusion  (original with L/R-extension)\n",
    "DarkSRF_2Dary_with_Lext         = Bound_with_Lext_2Dary(mAp_min_plt_test, N_mAp_begin_L_test, N_mAp_ext_L_test, DarkSRF_2Dary)\n",
    "DarkSRF_2Dary_Rext              = Bound_Rext_2Dary(mAp_max_plt_test, N_mAp_begin_R_test, N_mAp_ext_R_test, DarkSRF_2Dary)\n",
    "\n",
    "DarkSRF_2Dary_with_LRext        = Append_mAp_eps_2Dary(DarkSRF_2Dary_with_Lext, DarkSRF_2Dary_Rext)\n",
    "\n",
    "# Dark SRF:projection (original with L/R-extension)\n",
    "DarkSRF_Proj_2Dary_with_Lext    = Bound_with_Lext_2Dary(mAp_min_plt_test, N_mAp_begin_L_test, N_mAp_ext_L_test, DarkSRF_Proj_2Dary)\n",
    "DarkSRF_Proj_2Dary_Rext         = Bound_Rext_2Dary(mAp_max_plt_test, N_mAp_begin_R_test, N_mAp_ext_R_test, DarkSRF_Proj_2Dary)\n",
    "\n",
    "DarkSRF_Proj_2Dary_with_LRext   = Append_mAp_eps_2Dary(DarkSRF_Proj_2Dary_with_Lext, DarkSRF_Proj_2Dary_Rext)\n",
    "\n",
    "\n",
    "\n",
    "# Xenon Solar         (original with L-extension)\n",
    "XenonSolar_2Dary_with_Lext      = Bound_with_Lext_2Dary(mAp_min_plt_test, N_mAp_begin_L_test, N_mAp_ext_L_test, XenonSolar_2Dary)\n",
    "\n",
    "# SolarLuminosity     (original with L-extension)\n",
    "SolarLuminosity_2Dary_with_Lext = Bound_with_Lext_2Dary(mAp_min_plt_test, N_mAp_begin_L_test, N_mAp_ext_L_test, SolarLuminosity_2Dary)\n"
   ]
  },
  {
   "cell_type": "code",
   "execution_count": null,
   "metadata": {},
   "outputs": [],
   "source": [
    "# mAp-eps Bound with Left(L) Extension\n",
    "def Bound_with_Lext_2Dary(mAp_min_ext, N_mAp_begin, N_mAp_ext, mAp_eps_2Dary):\n",
    "    \n",
    "    # Left Tail\n",
    "    mAp_eps_Ltail_2Dary = np.transpose( np.transpose( mAp_eps_2Dary )[:N_mAp_begin] )\n",
    "    \n",
    "    # Linear fit of (Log10(mAp),Log10(eps))\n",
    "    (Lext_k, Lext_b) = np.polyfit(  np.log10(mAp_eps_Ltail_2Dary[0]), np.log10(mAp_eps_Ltail_2Dary[1]), 1)\n",
    "    \n",
    "    # mAp_min of orginal 2D ary\n",
    "    mAp_min_origin = mAp_eps_Ltail_2Dary[0][0]\n",
    "    \n",
    "    # mAp_Lext 1D ary (include mAp_min_origin)\n",
    "    mAp_Lext_ary = np.logspace( np.log10(mAp_min_ext), np.log10(mAp_min_origin), N_mAp_ext )\n",
    "    \n",
    "    # eps_Lext 1D ary\n",
    "    eps_Lext_ary = 10**( Lext_k * np.log10(mAp_Lext_ary) + Lext_b )\n",
    "    \n",
    "    # mAp 1D ary (total)\n",
    "    mAp_tot_ary  = np.append( mAp_Lext_ary[:-1], mAp_eps_2Dary[0] )\n",
    "    \n",
    "    # eps 1D ary (total)\n",
    "    eps_tot_ary  = np.append( eps_Lext_ary[:-1], mAp_eps_2Dary[1] )\n",
    "    \n",
    "    # (mAp,eps) 2D array with extension (total)\n",
    "    mAp_eps_tot_2Dary = np.vstack( (mAp_tot_ary, eps_tot_ary) )\n",
    "    \n",
    "    return mAp_eps_tot_2Dary\n",
    "\n",
    "# mAp-eps Bound: Right(R) Extension\n",
    "def Bound_Rext_2Dary(mAp_max_ext, N_mAp_begin, N_mAp_ext, mAp_eps_2Dary):\n",
    "    \n",
    "    # Right Tail\n",
    "    mAp_eps_Rtail_2Dary = np.transpose( np.transpose( mAp_eps_2Dary )[-N_mAp_begin:] )\n",
    "    \n",
    "    # Linear fit of (Log10(mAp),Log10(eps))\n",
    "    (Rext_k, Rext_b) = np.polyfit(  np.log10(mAp_eps_Rtail_2Dary[0]), np.log10(mAp_eps_Rtail_2Dary[1]), 1)\n",
    "    \n",
    "    # mAp_max of orginal 2D ary\n",
    "    mAp_max_origin = mAp_eps_Rtail_2Dary[0][-1]\n",
    "    \n",
    "    # mAp_Rext 1D ary (include mAp_max_origin)\n",
    "    mAp_Rext_ary = np.logspace( np.log10(mAp_max_origin), np.log10(mAp_max_ext), N_mAp_ext )\n",
    "    \n",
    "    # eps_Rext 1D ary\n",
    "    eps_Rext_ary = 10**( Rext_k * np.log10(mAp_Rext_ary) + Rext_b )\n",
    "    \n",
    "    # Right extension of (mAp,eps) 2D array\n",
    "    mAp_eps_Rext_2Dary = np.vstack( (mAp_Rext_ary[1:], eps_Rext_ary[1:]) )\n",
    "    \n",
    "    return mAp_eps_Rext_2Dary\n",
    "\n",
    "def Append_mAp_eps_2Dary( mAp_eps_2Dary_1, mAp_eps_2Dary_2 ):\n",
    "    \n",
    "    mAp_ary_1 = mAp_eps_2Dary_1[0]\n",
    "    mAp_ary_2 = mAp_eps_2Dary_2[0]\n",
    "    \n",
    "    eps_ary_1 = mAp_eps_2Dary_1[1]\n",
    "    eps_ary_2 = mAp_eps_2Dary_2[1]\n",
    "    \n",
    "    mAp_ary_tot = np.append( mAp_ary_1, mAp_ary_2 )\n",
    "    eps_ary_tot = np.append( eps_ary_1, eps_ary_2 )\n",
    "    \n",
    "    mAp_eps_2Dary_tot = np.vstack( (mAp_ary_tot, eps_ary_tot) )\n",
    "    \n",
    "    return mAp_eps_2Dary_tot\n",
    "\n",
    "# =================================================\n",
    "# Parameters for doing left/right extensions\n",
    "mAp_min_plt_test = 10**(-16) # eV\n",
    "mAp_max_plt_test = 10**(-1)  # eV\n",
    "\n",
    "N_mAp_begin_L_test = 5\n",
    "N_mAp_begin_R_test = 5\n",
    "\n",
    "N_mAp_ext_L_test = 500\n",
    "N_mAp_ext_R_test = 500\n",
    "# =================================================\n",
    "print('minimum mAp for left extension      :', mAp_min_plt_test, 'eV' )\n",
    "print('maximum mAp for right extension     :', mAp_max_plt_test, 'eV' )\n",
    "print('')\n",
    "print('N_mAp to begin the left extension   :', N_mAp_begin_L_test)\n",
    "print('N_mAp to begin the right extension  :', N_mAp_begin_R_test)\n",
    "print('')\n",
    "print('N_mAp for the left extension        :', N_mAp_ext_L_test)\n",
    "print('N_mAp for the right extension       :', N_mAp_ext_R_test)"
   ]
  },
  {
   "cell_type": "code",
   "execution_count": null,
   "metadata": {},
   "outputs": [],
   "source": [
    "N=14\n",
    "mAp_test_list=np.linspace(1.22e-07,mAp_cuttoff,N)\n",
    "eps_test_list=8.9400000e-08\n",
    "Mirizzi_09_extended_mAp=Mirizzi_09_FIRAS_2Dary[0]\n",
    "Mirizzi_09_extended_eps=Mirizzi_09_FIRAS_2Dary[1]\n",
    "new_Mirizzi_09_extended_mAp = np.zeros(len(Mirizzi_09_FIRAS_2Dary[0])+N)\n",
    "new_Mirizzi_09_extended_eps = np.zeros(len(Mirizzi_09_FIRAS_2Dary[1])+N)\n",
    "# print(new_Mirizzi_09_extended_mAp)\n",
    "new_Mirizzi_09_extended_mAp[0:len(Mirizzi_09_FIRAS_2Dary[0])] = Mirizzi_09_FIRAS_2Dary[0]\n",
    "new_Mirizzi_09_extended_eps[0:len(Mirizzi_09_FIRAS_2Dary[1])] = Mirizzi_09_FIRAS_2Dary[1]\n",
    "\n",
    "# print(new_Mirizzi_09_extended_mAp)\n",
    "# print(new_Mirizzi_09_extended_mAp[len(Mirizzi_09_FIRAS_2Dary[0])-1])\n",
    "#print(Mirizzi_09_extended_eps)\n",
    "#for mAp_curr in mAp_test_list:\n",
    "    #np.append(Mirizzi_09_extended_eps,eps_test_list)\n",
    "    #np.append(Mirizzi_09_extended_mAp,mAp_curr)\n",
    "\n",
    "for i in np.arange(len(mAp_test_list)):\n",
    "    new_Mirizzi_09_extended_mAp[i+len(Mirizzi_09_FIRAS_2Dary[0])] += mAp_test_list[i]\n",
    "    new_Mirizzi_09_extended_eps[i+len(Mirizzi_09_FIRAS_2Dary[1])] += eps_test_list\n",
    "\n",
    "\n",
    "print(new_Mirizzi_09_extended_mAp)\n",
    "\n",
    "\n",
    "# Create a sample dataframe\n",
    "df_new_Mirizzi_09_extended = pd.DataFrame(np.transpose([new_Mirizzi_09_extended_mAp,new_Mirizzi_09_extended_eps] )\n",
    ")\n",
    "\n",
    "# Save the dataframe to a CSV file\n",
    "df_new_Mirizzi_09_extended.to_csv('../data/Mirizzi_09_extended.csv', index=False)\n",
    "\n",
    "\n",
    "\n",
    "#Mirizzi_09_extended_mAp"
   ]
  }
 ],
 "metadata": {
  "kernelspec": {
   "display_name": "Python 3",
   "language": "python",
   "name": "python3"
  },
  "language_info": {
   "codemirror_mode": {
    "name": "ipython",
    "version": 3
   },
   "file_extension": ".py",
   "mimetype": "text/x-python",
   "name": "python",
   "nbconvert_exporter": "python",
   "pygments_lexer": "ipython3",
   "version": "3.7.4"
  }
 },
 "nbformat": 4,
 "nbformat_minor": 2
}
