{
 "cells": [
  {
   "cell_type": "code",
   "execution_count": 1,
   "metadata": {},
   "outputs": [],
   "source": [
    "import sys\n",
    "sys.path.insert(1, '../')\n",
    "\n",
    "from pckgs.import_pckg import *\n",
    "from pckgs.units import *\n",
    "from FIRAS import *\n",
    "#importing generic constants and functions\n",
    "from const_func_general import *\n",
    "#importing distortion specific constants and functions\n",
    "from cons_func_distortion import *\n",
    "#importing functions actually calculatting distortion\n",
    "from calc_distortion import *\n",
    "#importing functions for maximum liklihood analysis \n",
    "# from max_likelihood_analysis import *\n"
   ]
  },
  {
   "cell_type": "markdown",
   "metadata": {},
   "source": [
    "$P_{\\gamma \\rightarrow A'}$\n",
    "\n",
    "Perturbative: \n",
    "\\begin{equation}\n",
    "P_{\\gamma \\rightarrow A'}(m_{A'},x) = \\sum_\\text{res} \\frac{\\pi \\epsilon^2 m_{A'}^4}{ \\omega(z_\\text{res}) \\cdot (1+z_\\text{res}) H_\\text{res} } \\frac{1}{\\left| d m_\\gamma^2/dz \\right|_\\text{res}}.\n",
    "\\end{equation}\n",
    "\n",
    "Non-perturbative: \n",
    "\\begin{equation}\n",
    "P_{\\gamma \\rightarrow A'}(m_{A'},x) = 1 - \\exp\\left(- \\sum_\\text{res} \\frac{\\pi \\cdot \\sin^2\\epsilon \\cdot m_{A'}^4}{ \\omega(z_\\text{res}) \\cdot (1+z_\\text{res}) H_\\text{res} } \\frac{1}{\\left| d m_\\gamma^2/dz \\right|_\\text{res}} \\right)\n",
    "\\end{equation}\n",
    " Calc and interp: $z_\\text{res}(m_{A'},x)$ and $P_{\\gamma \\rightarrow A'}(m_{A'},x)$                                                                                                              \n",
    "                                                                                                              "
   ]
  },
  {
   "cell_type": "code",
   "execution_count": 5,
   "metadata": {},
   "outputs": [
    {
     "name": "stdout",
     "output_type": "stream",
     "text": [
      "N_P_x     =  500\n",
      "N_P_mAp   =  300\n",
      "\n",
      "x_P_min   =  0.0052789483668742995\n",
      "x_P_max   =  15.836845100622897\n",
      "\n",
      "mAp_P_min =  1e-17 eV\n",
      "mAp_P_max =  0.001 eV\n",
      "\n"
     ]
    }
   ],
   "source": [
    "# ----------------------------------------------------------------------\n",
    "# Parameters for scanning in (mAp,x) plane\n",
    "# Here we calculate P(A->Ap) for (mAp,x) plane. Result will be used later\n",
    "# To interpolate probability for much faster calculations. \n",
    "# We have checked and error between interpolated and directly calcualted probability is negiligible.\n",
    "# ----------------------------------------------------------------------\n",
    "# Output the P(A->Ap) table on x-mAp plane\n",
    "N_P_x   = 500\n",
    "N_P_mAp = 300\n",
    "\n",
    "nu_P_min = 10**(-2)  # in cm^-1\n",
    "nu_P_max = 30        # in cm^-1    # Note: The highest nu_FIRAS is 21.33 cm^-1\n",
    "\n",
    "x_P_min = 2 * np.pi * nu_P_min * cmInv_to_eV/TCMB_0   # in eV\n",
    "x_P_max = 2 * np.pi * nu_P_max * cmInv_to_eV/TCMB_0   # in eV\n",
    "\n",
    "mAp_P_min = 10**(-17)                               # in eV     # Note: The lower mAp of FIRAS bound is ~10^(-15) eV\n",
    "mAp_P_max = 10**(-3)                                # in eV     # Note: mAp~10^-4eV, z_res~10^6 (Double Compton Scattering). \n",
    "\n",
    "\n",
    "print('N_P_x     = ', N_P_x )\n",
    "print('N_P_mAp   = ', N_P_mAp )\n",
    "print('')\n",
    "print('x_P_min   = ', x_P_min )\n",
    "print('x_P_max   = ', x_P_max )\n",
    "print('')\n",
    "print('mAp_P_min = ', mAp_P_min, 'eV')\n",
    "print('mAp_P_max = ', mAp_P_max, 'eV')\n",
    "print('')\n",
    "\n",
    "# ----------------------------------------------------------------------\n",
    "# Scan in (x,mAp) plane\n",
    "# ----------------------------------------------------------------------\n",
    "\n",
    "x_P_scan_ary   = np.linspace( x_P_min, x_P_max, N_P_x )\n",
    "mAp_P_scan_ary = np.logspace( np.log10(mAp_P_min), np.log10(mAp_P_max), N_P_mAp )\n",
    "\n",
    "P_over_eps2_scan_2Dary = np.zeros( (len(x_P_scan_ary),len(mAp_P_scan_ary)) )\n",
    "\n",
    "zres_scan_2Dary        = np.zeros( (len(x_P_scan_ary),len(mAp_P_scan_ary)) )"
   ]
  },
  {
   "cell_type": "code",
   "execution_count": 6,
   "metadata": {},
   "outputs": [
    {
     "data": {
      "application/vnd.jupyter.widget-view+json": {
       "model_id": "b1ba48040e6b471686fb9f7181ac5d3c",
       "version_major": 2,
       "version_minor": 0
      },
      "text/plain": [
       "HBox(children=(IntProgress(value=0, max=300), HTML(value='')))"
      ]
     },
     "metadata": {},
     "output_type": "display_data"
    },
    {
     "ename": "KeyboardInterrupt",
     "evalue": "",
     "output_type": "error",
     "traceback": [
      "\u001b[0;31m---------------------------------------------------------------------------\u001b[0m",
      "\u001b[0;31mKeyboardInterrupt\u001b[0m                         Traceback (most recent call last)",
      "\u001b[0;32m<ipython-input-6-296fafe88136>\u001b[0m in \u001b[0;36m<module>\u001b[0;34m\u001b[0m\n\u001b[1;32m      7\u001b[0m         \u001b[0mmAp_j\u001b[0m \u001b[0;34m=\u001b[0m \u001b[0mmAp_P_scan_ary\u001b[0m\u001b[0;34m[\u001b[0m\u001b[0mj\u001b[0m\u001b[0;34m]\u001b[0m   \u001b[0;31m# in eV\u001b[0m\u001b[0;34m\u001b[0m\u001b[0;34m\u001b[0m\u001b[0m\n\u001b[1;32m      8\u001b[0m \u001b[0;34m\u001b[0m\u001b[0m\n\u001b[0;32m----> 9\u001b[0;31m         \u001b[0mget_z_crossing_ij\u001b[0m \u001b[0;34m=\u001b[0m \u001b[0mget_z_crossings\u001b[0m\u001b[0;34m(\u001b[0m\u001b[0mmAp_j\u001b[0m\u001b[0;34m,\u001b[0m\u001b[0mTCMB_0\u001b[0m\u001b[0;34m*\u001b[0m\u001b[0mx_i\u001b[0m\u001b[0;34m)\u001b[0m\u001b[0;34m\u001b[0m\u001b[0;34m\u001b[0m\u001b[0m\n\u001b[0m\u001b[1;32m     10\u001b[0m \u001b[0;34m\u001b[0m\u001b[0m\n\u001b[1;32m     11\u001b[0m         \u001b[0;31m# Check whether A and Ap crosses\u001b[0m\u001b[0;34m\u001b[0m\u001b[0;34m\u001b[0m\u001b[0;34m\u001b[0m\u001b[0m\n",
      "\u001b[0;32m~/Documents/GitHub/CMB-Spectral-Distortions-from-Dark-Photon-Oscillation/notebooks/cons_func_distortion.py\u001b[0m in \u001b[0;36mget_z_crossings\u001b[0;34m(mAp, omega0, z_ary)\u001b[0m\n\u001b[1;32m    303\u001b[0m \u001b[0;34m\u001b[0m\u001b[0m\n\u001b[1;32m    304\u001b[0m \u001b[0;34m\u001b[0m\u001b[0m\n\u001b[0;32m--> 305\u001b[0;31m \u001b[0;34m\u001b[0m\u001b[0m\n\u001b[0m\u001b[1;32m    306\u001b[0m     \u001b[0;31m# P/eps^2\u001b[0m\u001b[0;34m\u001b[0m\u001b[0;34m\u001b[0m\u001b[0;34m\u001b[0m\u001b[0m\n\u001b[1;32m    307\u001b[0m     \u001b[0mP_pre_over_eps2\u001b[0m  \u001b[0;34m=\u001b[0m \u001b[0mnp\u001b[0m\u001b[0;34m.\u001b[0m\u001b[0msum\u001b[0m\u001b[0;34m(\u001b[0m\u001b[0mP_pre_over_eps2_ary\u001b[0m\u001b[0;34m)\u001b[0m\u001b[0;34m\u001b[0m\u001b[0;34m\u001b[0m\u001b[0m\n",
      "\u001b[0;32m~/Documents/GitHub/CMB-Spectral-Distortions-from-Dark-Photon-Oscillation/notebooks/cons_func_distortion.py\u001b[0m in \u001b[0;36mmAsq\u001b[0;34m(z, omega0)\u001b[0m\n\u001b[1;32m    271\u001b[0m             (mAsq_ary[:-1]<mAp**2) * (mAsq_ary[1:]>mAp**2), (mAsq_ary[:-1]>mAp**2) * (mAsq_ary[1:]<mAp**2) ) )\n\u001b[1;32m    272\u001b[0m \u001b[0;34m\u001b[0m\u001b[0m\n\u001b[0;32m--> 273\u001b[0;31m     \u001b[0;31m# mA^2-mAp^2 on grids\u001b[0m\u001b[0;34m\u001b[0m\u001b[0;34m\u001b[0m\u001b[0;34m\u001b[0m\u001b[0m\n\u001b[0m\u001b[1;32m    274\u001b[0m     \u001b[0;32mdef\u001b[0m \u001b[0mmAsq_minus_mApsq_ary\u001b[0m\u001b[0;34m(\u001b[0m\u001b[0mz\u001b[0m\u001b[0;34m)\u001b[0m\u001b[0;34m:\u001b[0m\u001b[0;34m\u001b[0m\u001b[0;34m\u001b[0m\u001b[0m\n\u001b[1;32m    275\u001b[0m \u001b[0;34m\u001b[0m\u001b[0m\n",
      "\u001b[0;32m~/opt/anaconda3/lib/python3.7/site-packages/scipy/interpolate/polyint.py\u001b[0m in \u001b[0;36m__call__\u001b[0;34m(self, x)\u001b[0m\n\u001b[1;32m     77\u001b[0m         \"\"\"\n\u001b[1;32m     78\u001b[0m         \u001b[0mx\u001b[0m\u001b[0;34m,\u001b[0m \u001b[0mx_shape\u001b[0m \u001b[0;34m=\u001b[0m \u001b[0mself\u001b[0m\u001b[0;34m.\u001b[0m\u001b[0m_prepare_x\u001b[0m\u001b[0;34m(\u001b[0m\u001b[0mx\u001b[0m\u001b[0;34m)\u001b[0m\u001b[0;34m\u001b[0m\u001b[0;34m\u001b[0m\u001b[0m\n\u001b[0;32m---> 79\u001b[0;31m         \u001b[0my\u001b[0m \u001b[0;34m=\u001b[0m \u001b[0mself\u001b[0m\u001b[0;34m.\u001b[0m\u001b[0m_evaluate\u001b[0m\u001b[0;34m(\u001b[0m\u001b[0mx\u001b[0m\u001b[0;34m)\u001b[0m\u001b[0;34m\u001b[0m\u001b[0;34m\u001b[0m\u001b[0m\n\u001b[0m\u001b[1;32m     80\u001b[0m         \u001b[0;32mreturn\u001b[0m \u001b[0mself\u001b[0m\u001b[0;34m.\u001b[0m\u001b[0m_finish_y\u001b[0m\u001b[0;34m(\u001b[0m\u001b[0my\u001b[0m\u001b[0;34m,\u001b[0m \u001b[0mx_shape\u001b[0m\u001b[0;34m)\u001b[0m\u001b[0;34m\u001b[0m\u001b[0;34m\u001b[0m\u001b[0m\n\u001b[1;32m     81\u001b[0m \u001b[0;34m\u001b[0m\u001b[0m\n",
      "\u001b[0;32m~/opt/anaconda3/lib/python3.7/site-packages/scipy/interpolate/interpolate.py\u001b[0m in \u001b[0;36m_evaluate\u001b[0;34m(self, x_new)\u001b[0m\n\u001b[1;32m    659\u001b[0m         \u001b[0;31m#    The behavior is set by the bounds_error variable.\u001b[0m\u001b[0;34m\u001b[0m\u001b[0;34m\u001b[0m\u001b[0;34m\u001b[0m\u001b[0m\n\u001b[1;32m    660\u001b[0m         \u001b[0mx_new\u001b[0m \u001b[0;34m=\u001b[0m \u001b[0masarray\u001b[0m\u001b[0;34m(\u001b[0m\u001b[0mx_new\u001b[0m\u001b[0;34m)\u001b[0m\u001b[0;34m\u001b[0m\u001b[0;34m\u001b[0m\u001b[0m\n\u001b[0;32m--> 661\u001b[0;31m         \u001b[0my_new\u001b[0m \u001b[0;34m=\u001b[0m \u001b[0mself\u001b[0m\u001b[0;34m.\u001b[0m\u001b[0m_call\u001b[0m\u001b[0;34m(\u001b[0m\u001b[0mself\u001b[0m\u001b[0;34m,\u001b[0m \u001b[0mx_new\u001b[0m\u001b[0;34m)\u001b[0m\u001b[0;34m\u001b[0m\u001b[0;34m\u001b[0m\u001b[0m\n\u001b[0m\u001b[1;32m    662\u001b[0m         \u001b[0;32mif\u001b[0m \u001b[0;32mnot\u001b[0m \u001b[0mself\u001b[0m\u001b[0;34m.\u001b[0m\u001b[0m_extrapolate\u001b[0m\u001b[0;34m:\u001b[0m\u001b[0;34m\u001b[0m\u001b[0;34m\u001b[0m\u001b[0m\n\u001b[1;32m    663\u001b[0m             \u001b[0mbelow_bounds\u001b[0m\u001b[0;34m,\u001b[0m \u001b[0mabove_bounds\u001b[0m \u001b[0;34m=\u001b[0m \u001b[0mself\u001b[0m\u001b[0;34m.\u001b[0m\u001b[0m_check_bounds\u001b[0m\u001b[0;34m(\u001b[0m\u001b[0mx_new\u001b[0m\u001b[0;34m)\u001b[0m\u001b[0;34m\u001b[0m\u001b[0;34m\u001b[0m\u001b[0m\n",
      "\u001b[0;32m~/opt/anaconda3/lib/python3.7/site-packages/scipy/interpolate/interpolate.py\u001b[0m in \u001b[0;36m_call_linear\u001b[0;34m(self, x_new)\u001b[0m\n\u001b[1;32m    589\u001b[0m         \u001b[0;31m#    would be inserted.\u001b[0m\u001b[0;34m\u001b[0m\u001b[0;34m\u001b[0m\u001b[0;34m\u001b[0m\u001b[0m\n\u001b[1;32m    590\u001b[0m         \u001b[0;31m#    Note: If x_new[n] == x[m], then m is returned by searchsorted.\u001b[0m\u001b[0;34m\u001b[0m\u001b[0;34m\u001b[0m\u001b[0;34m\u001b[0m\u001b[0m\n\u001b[0;32m--> 591\u001b[0;31m         \u001b[0mx_new_indices\u001b[0m \u001b[0;34m=\u001b[0m \u001b[0msearchsorted\u001b[0m\u001b[0;34m(\u001b[0m\u001b[0mself\u001b[0m\u001b[0;34m.\u001b[0m\u001b[0mx\u001b[0m\u001b[0;34m,\u001b[0m \u001b[0mx_new\u001b[0m\u001b[0;34m)\u001b[0m\u001b[0;34m\u001b[0m\u001b[0;34m\u001b[0m\u001b[0m\n\u001b[0m\u001b[1;32m    592\u001b[0m \u001b[0;34m\u001b[0m\u001b[0m\n\u001b[1;32m    593\u001b[0m         \u001b[0;31m# 3. Clip x_new_indices so that they are within the range of\u001b[0m\u001b[0;34m\u001b[0m\u001b[0;34m\u001b[0m\u001b[0;34m\u001b[0m\u001b[0m\n",
      "\u001b[0;32m<__array_function__ internals>\u001b[0m in \u001b[0;36msearchsorted\u001b[0;34m(*args, **kwargs)\u001b[0m\n",
      "\u001b[0;32m~/opt/anaconda3/lib/python3.7/site-packages/numpy/core/fromnumeric.py\u001b[0m in \u001b[0;36msearchsorted\u001b[0;34m(a, v, side, sorter)\u001b[0m\n\u001b[1;32m   1348\u001b[0m \u001b[0;34m\u001b[0m\u001b[0m\n\u001b[1;32m   1349\u001b[0m     \"\"\"\n\u001b[0;32m-> 1350\u001b[0;31m     \u001b[0;32mreturn\u001b[0m \u001b[0m_wrapfunc\u001b[0m\u001b[0;34m(\u001b[0m\u001b[0ma\u001b[0m\u001b[0;34m,\u001b[0m \u001b[0;34m'searchsorted'\u001b[0m\u001b[0;34m,\u001b[0m \u001b[0mv\u001b[0m\u001b[0;34m,\u001b[0m \u001b[0mside\u001b[0m\u001b[0;34m=\u001b[0m\u001b[0mside\u001b[0m\u001b[0;34m,\u001b[0m \u001b[0msorter\u001b[0m\u001b[0;34m=\u001b[0m\u001b[0msorter\u001b[0m\u001b[0;34m)\u001b[0m\u001b[0;34m\u001b[0m\u001b[0;34m\u001b[0m\u001b[0m\n\u001b[0m\u001b[1;32m   1351\u001b[0m \u001b[0;34m\u001b[0m\u001b[0m\n\u001b[1;32m   1352\u001b[0m \u001b[0;34m\u001b[0m\u001b[0m\n",
      "\u001b[0;32m~/opt/anaconda3/lib/python3.7/site-packages/numpy/core/fromnumeric.py\u001b[0m in \u001b[0;36m_wrapfunc\u001b[0;34m(obj, method, *args, **kwds)\u001b[0m\n\u001b[1;32m     55\u001b[0m \u001b[0;34m\u001b[0m\u001b[0m\n\u001b[1;32m     56\u001b[0m     \u001b[0;32mtry\u001b[0m\u001b[0;34m:\u001b[0m\u001b[0;34m\u001b[0m\u001b[0;34m\u001b[0m\u001b[0m\n\u001b[0;32m---> 57\u001b[0;31m         \u001b[0;32mreturn\u001b[0m \u001b[0mbound\u001b[0m\u001b[0;34m(\u001b[0m\u001b[0;34m*\u001b[0m\u001b[0margs\u001b[0m\u001b[0;34m,\u001b[0m \u001b[0;34m**\u001b[0m\u001b[0mkwds\u001b[0m\u001b[0;34m)\u001b[0m\u001b[0;34m\u001b[0m\u001b[0;34m\u001b[0m\u001b[0m\n\u001b[0m\u001b[1;32m     58\u001b[0m     \u001b[0;32mexcept\u001b[0m \u001b[0mTypeError\u001b[0m\u001b[0;34m:\u001b[0m\u001b[0;34m\u001b[0m\u001b[0;34m\u001b[0m\u001b[0m\n\u001b[1;32m     59\u001b[0m         \u001b[0;31m# A TypeError occurs if the object does have such a method in its\u001b[0m\u001b[0;34m\u001b[0m\u001b[0;34m\u001b[0m\u001b[0;34m\u001b[0m\u001b[0m\n",
      "\u001b[0;31mKeyboardInterrupt\u001b[0m: "
     ]
    }
   ],
   "source": [
    "\n",
    "\n",
    "for j in tqdm_notebook(range(0,len(mAp_P_scan_ary))):\n",
    "\n",
    "    \n",
    "    for i in range(0,len(x_P_scan_ary)):\n",
    "        \n",
    "        x_i   = x_P_scan_ary[i]\n",
    "        mAp_j = mAp_P_scan_ary[j]   # in eV\n",
    "        \n",
    "        get_z_crossing_ij = get_z_crossings(mAp_j,TCMB_0*x_i)\n",
    "        \n",
    "        # Check whether A and Ap crosses\n",
    "        # If no crossing, choose zres=0\n",
    "        if (len( get_z_crossing_ij ) > 0):\n",
    "            zres_scan_2Dary[i][j] = get_z_crossing_ij[0]   # Only pick the smallest z_cross\n",
    "        else:\n",
    "            zres_scan_2Dary[i][j] = 0  # When there is no crossing\n",
    "        \n",
    "        # P_over_eps2_scan_2Dary[i][j] = P_over_eps2(mAp_j, x_i)\n",
    "        P_over_eps2_scan_2Dary[i][j] = P_pre_over_eps2(mAp_j, x_i, get_z_crossing_ij)"
   ]
  },
  {
   "cell_type": "code",
   "execution_count": null,
   "metadata": {},
   "outputs": [],
   "source": [
    "# Exporting Probability and mAp and x_p values\n",
    "np.savez(\"../data/Probability.npz\",\n",
    "         x_P_scan_ary=x_P_scan_ary,\n",
    "         mAp_P_scan_ary=mAp_P_scan_ary,\n",
    "         P_over_eps2_scan_2Dary=P_over_eps2_scan_2Dary,\n",
    "         zres_scan_2Dary=zres_scan_2Dary\n",
    "         )\n"
   ]
  }
 ],
 "metadata": {
  "kernelspec": {
   "display_name": "Python 3",
   "language": "python",
   "name": "python3"
  },
  "language_info": {
   "codemirror_mode": {
    "name": "ipython",
    "version": 3
   },
   "file_extension": ".py",
   "mimetype": "text/x-python",
   "name": "python",
   "nbconvert_exporter": "python",
   "pygments_lexer": "ipython3",
   "version": "3.7.4"
  }
 },
 "nbformat": 4,
 "nbformat_minor": 2
}
